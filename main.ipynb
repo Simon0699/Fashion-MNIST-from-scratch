{
 "cells": [
  {
   "cell_type": "code",
   "execution_count": 52,
   "metadata": {},
   "outputs": [],
   "source": [
    "import numpy as np\n",
    "import pandas as pd\n",
    "import os\n",
    "import matplotlib.pyplot as plt\n"
   ]
  },
  {
   "cell_type": "code",
   "execution_count": null,
   "metadata": {},
   "outputs": [],
   "source": []
  },
  {
   "cell_type": "code",
   "execution_count": null,
   "metadata": {},
   "outputs": [],
   "source": [
    "train = pd.read_csv('fashion-mnist_train.csv')\n",
    "train = train.to_numpy()\n",
    "X = train[:, 1:]\n",
    "Y = train[:, 0]\n",
    "\n"
   ]
  },
  {
   "cell_type": "code",
   "execution_count": 76,
   "metadata": {},
   "outputs": [],
   "source": [
    "Yt = [[0 for i in range(10)] for j in range(len(Y))]\n",
    "for i in range(len(Y)):\n",
    "    for j in range(10):\n",
    "        if (Y[i] == j):\n",
    "            Yt[i][j] = 1"
   ]
  },
  {
   "cell_type": "code",
   "execution_count": 13,
   "metadata": {},
   "outputs": [],
   "source": [
    "X = X.astype(float)\n",
    "for i in range(60000):\n",
    "    for j in range(784):\n",
    "        X[i,j] = X[i,j]/255\n"
   ]
  },
  {
   "cell_type": "code",
   "execution_count": 56,
   "metadata": {},
   "outputs": [],
   "source": [
    "w1 = np.random.randint(1000, size=(784,64)).astype(float)\n",
    "for i in range(784):\n",
    "    for j in range(64):\n",
    "        w1[i,j] = w1[i,j]/1000\n",
    "       \n",
    "    \n",
    "b1 = np.zeros(64)\n",
    "b2 = np.zeros(64)\n",
    "w2 = np.random.randint(1000, size=(64,64)).astype(float)\n",
    "for i in range(64):\n",
    "    for j in range(64):\n",
    "        w2[i,j] = w2[i,j]/1000\n",
    "w3 = np.random.randint(1000, size=(64,10)).astype(float)\n",
    "for i in range(64):\n",
    "    for j in range(10):\n",
    "        w3[i,j] = w3[i,j]/1000\n"
   ]
  },
  {
   "cell_type": "code",
   "execution_count": null,
   "metadata": {},
   "outputs": [
    {
     "data": {
      "text/plain": [
       "array([0.009, 0.877, 0.851, 0.182, 0.036, 0.441, 0.566, 0.717, 0.205,\n",
       "       0.75 ])"
      ]
     },
     "execution_count": 17,
     "metadata": {},
     "output_type": "execute_result"
    }
   ],
   "source": []
  },
  {
   "cell_type": "code",
   "execution_count": 30,
   "metadata": {},
   "outputs": [],
   "source": [
    "def sigmoid(z):\n",
    "    temp = [0] * len(z)\n",
    "    for i in range(len(z)):\n",
    "        temp[i] = 1/(1 + np.exp(-1*z[i]))\n",
    "    return temp\n",
    "def softmax(z):\n",
    "    sum = 0\n",
    "    for i in range(len(z)):\n",
    "        sum += np.exp(z[i])\n",
    "    for i in range(len(z)):\n",
    "        z[i] = np.exp(z[i])/sum\n",
    "    return z"
   ]
  },
  {
   "cell_type": "code",
   "execution_count": null,
   "metadata": {},
   "outputs": [
    {
     "data": {
      "text/plain": [
       "1.0"
      ]
     },
     "execution_count": 34,
     "metadata": {},
     "output_type": "execute_result"
    }
   ],
   "source": []
  },
  {
   "cell_type": "code",
   "execution_count": 35,
   "metadata": {},
   "outputs": [],
   "source": [
    "def feedforward(X):\n",
    "    l1 = sigmoid(np.dot(X, w1) + b1)\n",
    "    l2 = sigmoid(np.dot(l1,w2) + b2)\n",
    "    l3 = softmax(np.dot(l2,w3))\n",
    "    return l3\n"
   ]
  },
  {
   "cell_type": "code",
   "execution_count": null,
   "metadata": {},
   "outputs": [],
   "source": [
    "def cross_entropy_loss(true,pred):\n",
    "    return -1 * np.sum(true * np.log(pred))"
   ]
  },
  {
   "cell_type": "code",
   "execution_count": 120,
   "metadata": {},
   "outputs": [
    {
     "data": {
      "text/plain": [
       "<function matplotlib.pyplot.show(close=None, block=None)>"
      ]
     },
     "execution_count": 120,
     "metadata": {},
     "output_type": "execute_result"
    },
    {
     "data": {
      "image/png": "[encoded data removed]",
      "text/plain": [
       "<Figure size 640x480 with 1 Axes>"
      ]
     },
     "metadata": {},
     "output_type": "display_data"
    }
   ],
   "source": [
    "categories = list(range(10))\n",
    "data = feedforward(X[0])\n",
    "plt.bar(categories,data)\n",
    "plt.show"
   ]
  }
 ],
 "metadata": {
  "kernelspec": {
   "display_name": "Python 3",
   "language": "python",
   "name": "python3"
  },
  "language_info": {
   "codemirror_mode": {
    "name": "ipython",
    "version": 3
   },
   "file_extension": ".py",
   "mimetype": "text/x-python",
   "name": "python",
   "nbconvert_exporter": "python",
   "pygments_lexer": "ipython3",
   "version": "3.10.1"
  }
 },
 "nbformat": 4,
 "nbformat_minor": 2
}
