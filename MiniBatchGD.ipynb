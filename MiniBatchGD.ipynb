{
 "cells": [
  {
   "cell_type": "code",
   "execution_count": 1,
   "metadata": {},
   "outputs": [],
   "source": [
    "import numpy as np\n",
    "import pandas as pd\n",
    "import os\n",
    "import matplotlib.pyplot as plt\n"
   ]
  },
  {
   "cell_type": "code",
   "execution_count": 2,
   "metadata": {},
   "outputs": [],
   "source": [
    "train = pd.read_csv('fashion-mnist_train.csv')\n",
    "train = train.to_numpy()\n",
    "test = pd.read_csv('fashion-mnist_test/fashion-mnist_test.csv')\n",
    "test = test.to_numpy()\n",
    "X = train[:, 1:]\n",
    "Y = train[:, 0]\n",
    "Xtest = test[:, 1:]\n",
    "Ytest = test[:, 0]\n",
    "Ytransform = [[0 for i in range(10)] for j in range(len(Y))]\n",
    "for i in range(len(Y)):\n",
    "    for j in range(10):\n",
    "        if (Y[i] == j):\n",
    "            Ytransform[i][j] = 1\n",
    "Y=Ytransform\n"
   ]
  },
  {
   "cell_type": "code",
   "execution_count": 3,
   "metadata": {},
   "outputs": [],
   "source": [
    "X = X.astype(float)\n",
    "for i in range(60000):\n",
    "    for j in range(784):\n",
    "        X[i,j] = X[i,j]/255\n"
   ]
  },
  {
   "cell_type": "code",
   "execution_count": 4,
   "metadata": {},
   "outputs": [],
   "source": [
    "w1 = np.random.randn(64, 784) * np.sqrt(1 / 784)\n",
    "w2 = np.random.randn(64, 64) * np.sqrt(1 / 64)\n",
    "w3 = np.random.randn(10, 64) * np.sqrt(1 / 64)\n",
    "b1 = np.zeros(64)\n",
    "b2 = np.zeros(64)\n",
    "b3 = np.zeros(10)"
   ]
  },
  {
   "cell_type": "code",
   "execution_count": 5,
   "metadata": {},
   "outputs": [],
   "source": [
    "def sigmoid(z):\n",
    "    return 1/(1+np.exp(-1*np.array(z)))\n",
    "def softmax(z):\n",
    "    sum = 0\n",
    "    for i in range(len(z)):\n",
    "        sum += np.exp(z[i])\n",
    "    for i in range(len(z)):\n",
    "        z[i] = np.exp(z[i])/sum\n",
    "    return z\n",
    "def sigmoidprime(z):\n",
    "    return np.exp(-1*np.array(z))/(np.square(1+np.exp(-1*np.array(z))))"
   ]
  },
  {
   "cell_type": "code",
   "execution_count": 6,
   "metadata": {},
   "outputs": [],
   "source": [
    "def feedforward(X):\n",
    "    l1 = sigmoid(np.matmul(w1, X) + b1)\n",
    "    l2 = sigmoid(np.matmul(w2,l1) + b2)\n",
    "    l3 = softmax(np.matmul(w3,l2) + b3)\n",
    "    return l3\n"
   ]
  },
  {
   "cell_type": "code",
   "execution_count": 7,
   "metadata": {},
   "outputs": [],
   "source": [
    "def cross_entropy_loss(true,pred):\n",
    "    return -1 * np.sum(true * np.log(pred))"
   ]
  },
  {
   "cell_type": "code",
   "execution_count": 8,
   "metadata": {},
   "outputs": [],
   "source": [
    "w3grad = np.zeros(shape=(10,64))\n",
    "w2grad = np.zeros(shape=(64,64))\n",
    "w1grad = np.zeros(shape=(64,784))\n",
    "b3grad = np.zeros(10)\n",
    "b2grad = np.zeros(64)\n",
    "b1grad = np.zeros(64)\n",
    "batch_size = 32\n",
    "epochs = 3 \n",
    "lr = 0.005\n",
    "for i in range(epochs):\n",
    "    for j in range(60000):\n",
    "\n",
    "        z1 = np.matmul(w1, X[j]) + b1\n",
    "        a1 = sigmoid(z1)\n",
    "        z2 = np.matmul(w2, a1) + b2\n",
    "        a2 = sigmoid(z2)\n",
    "        z3 = np.matmul(w3,a2) + b3\n",
    "        output = softmax(z3)\n",
    "        bpe = output - Y[j]\n",
    "        b3grad += bpe\n",
    "        w3grad += np.outer(bpe,a2)\n",
    "        bpe = np.multiply(np.matmul(np.transpose(w3),bpe), sigmoidprime(z2))\n",
    "        b2grad += bpe\n",
    "        w2grad += np.outer(bpe,a1)\n",
    "        bpe = np.multiply(np.matmul(np.transpose(w2),bpe), sigmoidprime(z1))\n",
    "        b1grad += bpe\n",
    "        w1grad += np.outer(bpe,X[j])\n",
    "        if((j+1)%32==0):\n",
    "            w3 -= lr*(w3grad/32)\n",
    "            w2 -= lr*(w2grad/32)\n",
    "            w1 -= lr*(w1grad/32)\n",
    "            b3 -= lr*(b3grad/32)\n",
    "            b2 -= lr*(b2grad/32)\n",
    "            b1 -= lr*(b1grad/32)\n",
    "            w3grad = np.zeros(shape=(10,64))\n",
    "            w2grad = np.zeros(shape=(64,64))\n",
    "            w1grad = np.zeros(shape=(64,784))\n",
    "            b3grad = np.zeros(10)\n",
    "            b2grad = np.zeros(64)\n",
    "            b1grad = np.zeros(64)\n",
    "\n",
    "        \n",
    "\n",
    "\n",
    "    "
   ]
  },
  {
   "cell_type": "code",
   "execution_count": 9,
   "metadata": {},
   "outputs": [
    {
     "name": "stderr",
     "output_type": "stream",
     "text": [
      "C:\\Users\\simon\\AppData\\Local\\Temp\\ipykernel_22924\\595992434.py:2: RuntimeWarning: overflow encountered in exp\n",
      "  return 1/(1+np.exp(-1*np.array(z)))\n"
     ]
    },
    {
     "name": "stdout",
     "output_type": "stream",
     "text": [
      "0.5431\n"
     ]
    }
   ],
   "source": [
    "accuracy = 0\n",
    "for i in range(len(Ytest)):\n",
    "    if (np.argmax(feedforward(Xtest[i])) == Ytest[i]):\n",
    "        accuracy+=1\n",
    "score = (1.0 * accuracy)/len(Ytest)\n",
    "print(score)"
   ]
  }
 ],
 "metadata": {
  "kernelspec": {
   "display_name": "Python 3",
   "language": "python",
   "name": "python3"
  },
  "language_info": {
   "codemirror_mode": {
    "name": "ipython",
    "version": 3
   },
   "file_extension": ".py",
   "mimetype": "text/x-python",
   "name": "python",
   "nbconvert_exporter": "python",
   "pygments_lexer": "ipython3",
   "version": "3.10.1"
  }
 },
 "nbformat": 4,
 "nbformat_minor": 2
}
